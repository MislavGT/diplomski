{
 "cells": [
  {
   "cell_type": "code",
   "execution_count": 1,
   "id": "083b36a7",
   "metadata": {},
   "outputs": [
    {
     "name": "stderr",
     "output_type": "stream",
     "text": [
      "No GPU/TPU found, falling back to CPU. (Set TF_CPP_MIN_LOG_LEVEL=0 and rerun for more info.)\n"
     ]
    }
   ],
   "source": [
    "import matplotlib.pyplot as plt\n",
    "import jax\n",
    "import jax.numpy as jnp\n",
    "import muax as mm\n",
    "import src\n",
    "from src.envs import HeatEnv\n",
    "from src.fem import Topology\n",
    "from const import *\n",
    "from util import *\n",
    "import numpy as np\n",
    "import scipy.sparse as ss\n",
    "from muax.test import test\n",
    "import gymnasium as gym\n",
    "import matplotlib.pyplot as plt\n",
    "from matplotlib.colors import Normalize\n",
    "import haiku as hk\n",
    "import src.heatnn as nn"
   ]
  },
  {
   "cell_type": "code",
   "execution_count": 2,
   "id": "e6e16ca4",
   "metadata": {},
   "outputs": [],
   "source": [
    "def adjm(n, m):\n",
    "    num_nodes = n * m\n",
    "    A = np.zeros((num_nodes, num_nodes), dtype=int)\n",
    "    for i in range(num_nodes):\n",
    "        r = i // m\n",
    "        c = i % m\n",
    "        if r > 0:\n",
    "            A[i, i - m] = 1  \n",
    "        if r < n - 1:\n",
    "            A[i, i + m] = 1  \n",
    "        if c > 0:\n",
    "            A[i, i - 1] = 1  \n",
    "        if c < m - 1:\n",
    "            A[i, i + 1] = 1\n",
    "    #for i in range(num_nodes):\n",
    "    #    for j in range(num_nodes):\n",
    "    #        if i%m == m-1 and j%m == m-1:\n",
    "    #            A[i, j] = 0\n",
    "    #            A[j, i] = 0\n",
    "    A[0, 1] = 0\n",
    "    A[1, 0] = 0\n",
    "    A[2, 3] = 0\n",
    "    A[3, 2] = 0\n",
    "    A[-3, -4] = 0\n",
    "    A[-4, -3] = 0\n",
    "    A[-1, -2] = 0\n",
    "    A[-2, -1] = 0\n",
    "    return A\n",
    "\n",
    "def incm(adjacency_matrix):\n",
    "    num_nodes = adjacency_matrix.shape[0]\n",
    "    edges = []\n",
    "    for i in range(num_nodes):\n",
    "        for j in range(i + 1, num_nodes):\n",
    "            if adjacency_matrix[i, j] == 1:\n",
    "                edges.append((i, j))\n",
    "    num_edges = len(edges)\n",
    "    incidence_matrix = np.zeros((num_nodes, num_edges), dtype=int)\n",
    "    for edge_index, (start_node, end_node) in enumerate(edges):\n",
    "        incidence_matrix[start_node, edge_index] = 1\n",
    "        incidence_matrix[end_node, edge_index] = -1\n",
    "    return incidence_matrix\n",
    "\n",
    "def crtaj(d):\n",
    "    fig = plt.figure()\n",
    "    ax = fig.add_subplot()\n",
    "    norm = Normalize(vmin=d.C.min(), vmax=d.C.max())\n",
    "    cmap = plt.get_cmap('coolwarm')\n",
    "    ax.scatter(d.coord[:, 0], d.coord[:, 1], s=5)\n",
    "    for i in range(d.size):\n",
    "        ax.plot(d.coord[d.G[:, [i]].indices, 0], d.coord[d.G[:, [i]].indices, 1], color=cmap(norm(d.C[i])))\n",
    "    sm = plt.cm.ScalarMappable(cmap=cmap, norm=norm)\n",
    "    sm.set_array([]) \n",
    "    cbar = plt.colorbar(sm)\n",
    "    cbar.set_label('C', rotation=90)"
   ]
  },
  {
   "cell_type": "code",
   "execution_count": 3,
   "id": "827d8e78",
   "metadata": {},
   "outputs": [
    {
     "name": "stderr",
     "output_type": "stream",
     "text": [
      "/tmp/ipykernel_6113/1188322327.py:3: FutureWarning: arrays to stack must be passed as a \"sequence\" type such as list or tuple. Support for non-sequence iterables such as generators is deprecated as of NumPy 1.16 and will raise an error in the future.\n",
      "  coord = np.vstack(i.flatten() for i in np.meshgrid(np.linspace(1, 10, dima), np.linspace(1, 10, dimb))).T\n"
     ]
    }
   ],
   "source": [
    "dima, dimb = 4, 4\n",
    "A = incm(adjm(dima, dimb))\n",
    "coord = np.vstack(i.flatten() for i in np.meshgrid(np.linspace(1, 10, dima), np.linspace(1, 10, dimb))).T\n",
    "\n",
    "@jax.jit\n",
    "def fun(x):\n",
    "    return jnp.sqrt(jnp.sum(x**2))\n",
    "\n",
    "cond = 0.01*np.ones((A.shape[1],))"
   ]
  },
  {
   "cell_type": "code",
   "execution_count": 4,
   "id": "660dac5c",
   "metadata": {},
   "outputs": [],
   "source": [
    "i = 1\n",
    "support_size = 20\n",
    "num_actions = 20\n",
    "\n",
    "repr_fn = nn._init_representation_func(nn.Representation, 21, 5, 2, 7)\n",
    "pred_fn = nn._init_prediction_func(nn.Prediction, 41, 21, 2, 7)\n",
    "dy_fn = nn._init_dynamic_func(nn.Dynamic, 20, 41, 21, 2, 7)\n",
    "\n",
    "tracer = mm.PNStep(50, 0.999, 0.5)\n",
    "buffer = mm.TrajectoryReplayBuffer(500)\n",
    "\n",
    "gradient_transform = mm.model.optimizer(init_value=0.002, peak_value=0.002, end_value=0.0005, warmup_steps=20000, transition_steps=20000)\n",
    "\n",
    "# env = gym.make('src:Heat-v0', A=A, fun=fun, cond=cond)\n",
    "# tenv = gym.make('src:Heat-v0', A=A, fun=fun, cond=cond)\n",
    "model = mm.MuZero(repr_fn, pred_fn, dy_fn, policy='muzero', discount=0.999,\n",
    "                    optimizer=gradient_transform, support_size=support_size)\n",
    "\n",
    "# model_path = mm.fit(model,\n",
    "#                     env=env,\n",
    "#                     test_env=tenv,\n",
    "#                     max_episodes=1_000,\n",
    "#                     max_training_steps=1_000_000,\n",
    "#                     tracer=tracer,\n",
    "#                     buffer=buffer,\n",
    "#                     k_steps=5,\n",
    "#                     sample_per_trajectory=1,\n",
    "#                     buffer_warm_up=128,\n",
    "#                     num_trajectory=128,\n",
    "#                     tensorboard_dir='tensorboard/',\n",
    "#                     save_name='params',\n",
    "#                     random_seed=i,\n",
    "#                     log_all_metrics=True)\n",
    "\n",
    "model.load('params/mcts.npy')"
   ]
  },
  {
   "cell_type": "code",
   "execution_count": 7,
   "id": "ded8f611",
   "metadata": {},
   "outputs": [
    {
     "data": {
      "text/plain": [
       "-2966.504116654396"
      ]
     },
     "execution_count": 7,
     "metadata": {},
     "output_type": "execute_result"
    }
   ],
   "source": [
    "test_env = gym.make('src:Heat-v0', A=A, fun=fun, cond=cond)\n",
    "test_key = jax.random.PRNGKey(0)\n",
    "#err, best = test(model, test_env, test_key, num_simulations=1, num_test_episodes=1, random_seed=None)\n",
    "test(model, test_env, test_key, num_simulations=1, num_test_episodes=1, random_seed=None)"
   ]
  },
  {
   "cell_type": "code",
   "execution_count": 8,
   "id": "dabadfcd",
   "metadata": {},
   "outputs": [
    {
     "name": "stderr",
     "output_type": "stream",
     "text": [
      "/tmp/ipykernel_6113/753777623.py:54: MatplotlibDeprecationWarning: Unable to determine Axes to steal space for Colorbar. Using gca(), but will raise in the future. Either provide the *cax* argument to use as the Axes for the Colorbar, provide the *ax* argument to steal space from it, or add *mappable* to an Axes.\n",
      "  cbar = plt.colorbar(sm)\n"
     ]
    },
    {
     "data": {
      "image/png": "[encoded data removed]",
      "text/plain": [
       "<Figure size 640x480 with 2 Axes>"
      ]
     },
     "metadata": {},
     "output_type": "display_data"
    }
   ],
   "source": [
    "crtaj(test_env.design)"
   ]
  },
  {
   "cell_type": "code",
   "execution_count": null,
   "id": "d8fad51a",
   "metadata": {},
   "outputs": [],
   "source": []
  }
 ],
 "metadata": {
  "kernelspec": {
   "display_name": "Python 3 (ipykernel)",
   "language": "python",
   "name": "python3"
  },
  "language_info": {
   "codemirror_mode": {
    "name": "ipython",
    "version": 3
   },
   "file_extension": ".py",
   "mimetype": "text/x-python",
   "name": "python",
   "nbconvert_exporter": "python",
   "pygments_lexer": "ipython3",
   "version": "3.10.10"
  }
 },
 "nbformat": 4,
 "nbformat_minor": 5
}
