{
 "cells": [
  {
   "cell_type": "code",
   "execution_count": 3,
   "id": "616bd6a6",
   "metadata": {},
   "outputs": [],
   "source": [
    "from const import *\n",
    "\n",
    "import numpy as np\n",
    "import matplotlib.pyplot as plt\n",
    "\n",
    "from stable_baselines3 import A2C\n",
    "\n",
    "from src.envs import SegmentEnv\n",
    "from src.fem import Segment"
   ]
  },
  {
   "cell_type": "code",
   "execution_count": null,
   "id": "7409ff9b",
   "metadata": {},
   "outputs": [],
   "source": []
  }
 ],
 "metadata": {
  "kernelspec": {
   "display_name": "Python 3 (ipykernel)",
   "language": "python",
   "name": "python3"
  },
  "language_info": {
   "codemirror_mode": {
    "name": "ipython",
    "version": 3
   },
   "file_extension": ".py",
   "mimetype": "text/x-python",
   "name": "python",
   "nbconvert_exporter": "python",
   "pygments_lexer": "ipython3",
   "version": "3.10.10"
  }
 },
 "nbformat": 4,
 "nbformat_minor": 5
}
